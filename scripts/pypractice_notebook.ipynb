{
 "cells": [
  {
   "cell_type": "code",
   "execution_count": 1,
   "id": "f56db0e2-435f-4cb9-b8b7-6aa4e3ba2c8f",
   "metadata": {},
   "outputs": [
    {
     "name": "stdout",
     "output_type": "stream",
     "text": [
      "yes\n",
      "yes\n"
     ]
    }
   ],
   "source": [
    "#variables and assignments\n",
    "name=\"yes\"\n",
    "new_name=name\n",
    "print(name)\n",
    "print(new_name)"
   ]
  },
  {
   "cell_type": "code",
   "execution_count": 3,
   "id": "89efc602-9a28-48c2-84bf-122a3d40bbc3",
   "metadata": {},
   "outputs": [
    {
     "name": "stdout",
     "output_type": "stream",
     "text": [
      "HiHello\n"
     ]
    }
   ],
   "source": [
    "first_name = \"Hi\"\n",
    "second_name = \"Hello\"\n",
    "print(first_name+second_name)"
   ]
  },
  {
   "cell_type": "code",
   "execution_count": 8,
   "id": "1f6678c0-e9b0-4e82-a940-b9cade019023",
   "metadata": {},
   "outputs": [
    {
     "name": "stdout",
     "output_type": "stream",
     "text": [
      "my_var is None\n"
     ]
    }
   ],
   "source": [
    "my_var = None\n",
    "#my_var = \"null\"\n",
    "\n",
    "if my_var is None:\n",
    "    print(\"my_var is None\")\n",
    "else:\n",
    "    print(\"my_var has a value\")\n"
   ]
  },
  {
   "cell_type": "code",
   "execution_count": 9,
   "id": "def52617-eb5b-4227-8006-24d75885e177",
   "metadata": {},
   "outputs": [
    {
     "name": "stdout",
     "output_type": "stream",
     "text": [
      "condition is met\n"
     ]
    }
   ],
   "source": [
    "condition = True\n",
    "if condition:\n",
    "    print(\"condition is met\")"
   ]
  },
  {
   "cell_type": "code",
   "execution_count": 10,
   "id": "dd8666ce-eb64-4662-a82e-29e6e38bb75c",
   "metadata": {},
   "outputs": [],
   "source": [
    "#it doesnt print anything since its false\n",
    "condition = False\n",
    "if condition:\n",
    "    print(\"is condition met?\")"
   ]
  },
  {
   "cell_type": "code",
   "execution_count": null,
   "id": "c09fee71-f5d2-410b-8290-b69e3fff9a69",
   "metadata": {},
   "outputs": [],
   "source": []
  }
 ],
 "metadata": {
  "kernelspec": {
   "display_name": "Python 3 (ipykernel)",
   "language": "python",
   "name": "python3"
  },
  "language_info": {
   "codemirror_mode": {
    "name": "ipython",
    "version": 3
   },
   "file_extension": ".py",
   "mimetype": "text/x-python",
   "name": "python",
   "nbconvert_exporter": "python",
   "pygments_lexer": "ipython3",
   "version": "3.12.3"
  }
 },
 "nbformat": 4,
 "nbformat_minor": 5
}
